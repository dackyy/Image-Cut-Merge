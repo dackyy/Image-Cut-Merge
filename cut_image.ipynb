{
 "cells": [
  {
   "cell_type": "code",
   "execution_count": 16,
   "id": "1ad14470-f8ba-4d23-b4e7-d0b40a154d28",
   "metadata": {
    "tags": []
   },
   "outputs": [],
   "source": [
    "import cv2\n",
    "import numpy as np\n",
    "import random\n",
    "import albumentations as A\n",
    "\n",
    "# 주석 필히 작성!\n",
    "\n",
    "def slice_img(img,m,x):\n",
    "    col = int(img.shape[0])\n",
    "    row = int(img.shape[1])\n",
    "    if col%m != 0:\n",
    "        img = img[col%m:, :, :]\n",
    "    if row%x != 0:\n",
    "        img = img[:, row%x:, :]\n",
    "        \n",
    "    width =  int(col / m)\n",
    "    height =  int(row / x)\n",
    "    \n",
    "    aug_img_list = []\n",
    "    \n",
    "    for i in range(int(col / width)):\n",
    "        for j in range(int(row / height)):\n",
    "            # cv2.imshow(n,img[height*j:height * (j+1), width * i:width * (i+1)])\n",
    "            # cv2.waitKey(0)\n",
    "            aug_img_list.append(augment(img[height*j:height * (j+1), width * i:width * (i+1)]))\n",
    "            \n",
    "    for nu in aug_img_list:\n",
    "        cv2.imshow('s',nu)\n",
    "        cv2.waitKey(0)\n",
    "    \n",
    "    \n",
    "def rotate_right(image, **kwargs):\n",
    "    return cv2.rotate(image, cv2.ROTATE_90_CLOCKWISE)\n",
    "\n",
    "def augment(img):\n",
    "    # augments = [img]\n",
    "    augmentations = A.Compose([\n",
    "        A.RandomRotate90(p=0.5),\n",
    "        A.VerticalFlip(p=0.5),\n",
    "        A.Lambda(image=rotate_right, p=0.5)\n",
    "    ], p=1)\n",
    "    augmented = augmentations(image=img)\n",
    "    augments= augmented[\"image\"]\n",
    "    return augments\n",
    "\n",
    "\n",
    "\n",
    "\n",
    "# def \n",
    "\n",
    "m, x = 3,4\n",
    "\n",
    "img = cv2.imread('sample.jpg')\n",
    "col, row = img.shape[0], img.shape[1]\n",
    "\n",
    "img = slice_img(img,m,x)\n",
    "\n",
    "# img = augment(img)\n",
    "# cv2.imshow('s',img)\n",
    "\n",
    "# cv2.imwrite('solution.jpg', solution_img)"
   ]
  },
  {
   "cell_type": "code",
   "execution_count": 18,
   "id": "c4f0b7ec-1b96-4525-be18-27a1e25035d6",
   "metadata": {},
   "outputs": [],
   "source": [
    "import merge_image"
   ]
  },
  {
   "cell_type": "code",
   "execution_count": null,
   "id": "33561970-403b-48be-a864-01fdb179e217",
   "metadata": {},
   "outputs": [],
   "source": []
  }
 ],
 "metadata": {
  "kernelspec": {
   "display_name": "Python 3 (ipykernel)",
   "language": "python",
   "name": "python3"
  },
  "language_info": {
   "codemirror_mode": {
    "name": "ipython",
    "version": 3
   },
   "file_extension": ".py",
   "mimetype": "text/x-python",
   "name": "python",
   "nbconvert_exporter": "python",
   "pygments_lexer": "ipython3",
   "version": "3.11.2"
  }
 },
 "nbformat": 4,
 "nbformat_minor": 5
}
